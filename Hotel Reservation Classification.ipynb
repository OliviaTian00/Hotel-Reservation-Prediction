{
 "cells": [
  {
   "cell_type": "markdown",
   "id": "7a1d7c1b",
   "metadata": {},
   "source": [
    "# Question: factors causes hotel reservation cancellation "
   ]
  },
  {
   "cell_type": "markdown",
   "id": "514797db",
   "metadata": {},
   "source": [
    "Data records hotel room reservation on 2017 and 2018"
   ]
  },
  {
   "cell_type": "markdown",
   "id": "13cde3ed",
   "metadata": {},
   "source": [
    "# Import data, overview"
   ]
  },
  {
   "cell_type": "code",
   "execution_count": 1,
   "id": "804c79fb",
   "metadata": {},
   "outputs": [],
   "source": [
    "import pandas as pd\n",
    "import seaborn as sns\n",
    "import matplotlib.pyplot as plt\n",
    "import numpy as np"
   ]
  },
  {
   "cell_type": "code",
   "execution_count": 2,
   "id": "93d550db",
   "metadata": {
    "scrolled": false
   },
   "outputs": [
    {
     "data": {
      "text/html": [
       "<div>\n",
       "<style scoped>\n",
       "    .dataframe tbody tr th:only-of-type {\n",
       "        vertical-align: middle;\n",
       "    }\n",
       "\n",
       "    .dataframe tbody tr th {\n",
       "        vertical-align: top;\n",
       "    }\n",
       "\n",
       "    .dataframe thead th {\n",
       "        text-align: right;\n",
       "    }\n",
       "</style>\n",
       "<table border=\"1\" class=\"dataframe\">\n",
       "  <thead>\n",
       "    <tr style=\"text-align: right;\">\n",
       "      <th></th>\n",
       "      <th>Booking_ID</th>\n",
       "      <th>no_of_adults</th>\n",
       "      <th>no_of_children</th>\n",
       "      <th>no_of_weekend_nights</th>\n",
       "      <th>no_of_week_nights</th>\n",
       "      <th>type_of_meal_plan</th>\n",
       "      <th>required_car_parking_space</th>\n",
       "      <th>room_type_reserved</th>\n",
       "      <th>lead_time</th>\n",
       "      <th>arrival_year</th>\n",
       "      <th>arrival_month</th>\n",
       "      <th>arrival_date</th>\n",
       "      <th>market_segment_type</th>\n",
       "      <th>repeated_guest</th>\n",
       "      <th>no_of_previous_cancellations</th>\n",
       "      <th>no_of_previous_bookings_not_canceled</th>\n",
       "      <th>avg_price_per_room</th>\n",
       "      <th>no_of_special_requests</th>\n",
       "      <th>booking_status</th>\n",
       "    </tr>\n",
       "  </thead>\n",
       "  <tbody>\n",
       "    <tr>\n",
       "      <th>0</th>\n",
       "      <td>INN00001</td>\n",
       "      <td>2</td>\n",
       "      <td>0</td>\n",
       "      <td>1</td>\n",
       "      <td>2</td>\n",
       "      <td>Meal Plan 1</td>\n",
       "      <td>0</td>\n",
       "      <td>Room_Type 1</td>\n",
       "      <td>224</td>\n",
       "      <td>2017</td>\n",
       "      <td>10</td>\n",
       "      <td>2</td>\n",
       "      <td>Offline</td>\n",
       "      <td>0</td>\n",
       "      <td>0</td>\n",
       "      <td>0</td>\n",
       "      <td>65.00</td>\n",
       "      <td>0</td>\n",
       "      <td>Not_Canceled</td>\n",
       "    </tr>\n",
       "    <tr>\n",
       "      <th>1</th>\n",
       "      <td>INN00002</td>\n",
       "      <td>2</td>\n",
       "      <td>0</td>\n",
       "      <td>2</td>\n",
       "      <td>3</td>\n",
       "      <td>Not Selected</td>\n",
       "      <td>0</td>\n",
       "      <td>Room_Type 1</td>\n",
       "      <td>5</td>\n",
       "      <td>2018</td>\n",
       "      <td>11</td>\n",
       "      <td>6</td>\n",
       "      <td>Online</td>\n",
       "      <td>0</td>\n",
       "      <td>0</td>\n",
       "      <td>0</td>\n",
       "      <td>106.68</td>\n",
       "      <td>1</td>\n",
       "      <td>Not_Canceled</td>\n",
       "    </tr>\n",
       "    <tr>\n",
       "      <th>2</th>\n",
       "      <td>INN00003</td>\n",
       "      <td>1</td>\n",
       "      <td>0</td>\n",
       "      <td>2</td>\n",
       "      <td>1</td>\n",
       "      <td>Meal Plan 1</td>\n",
       "      <td>0</td>\n",
       "      <td>Room_Type 1</td>\n",
       "      <td>1</td>\n",
       "      <td>2018</td>\n",
       "      <td>2</td>\n",
       "      <td>28</td>\n",
       "      <td>Online</td>\n",
       "      <td>0</td>\n",
       "      <td>0</td>\n",
       "      <td>0</td>\n",
       "      <td>60.00</td>\n",
       "      <td>0</td>\n",
       "      <td>Canceled</td>\n",
       "    </tr>\n",
       "    <tr>\n",
       "      <th>3</th>\n",
       "      <td>INN00004</td>\n",
       "      <td>2</td>\n",
       "      <td>0</td>\n",
       "      <td>0</td>\n",
       "      <td>2</td>\n",
       "      <td>Meal Plan 1</td>\n",
       "      <td>0</td>\n",
       "      <td>Room_Type 1</td>\n",
       "      <td>211</td>\n",
       "      <td>2018</td>\n",
       "      <td>5</td>\n",
       "      <td>20</td>\n",
       "      <td>Online</td>\n",
       "      <td>0</td>\n",
       "      <td>0</td>\n",
       "      <td>0</td>\n",
       "      <td>100.00</td>\n",
       "      <td>0</td>\n",
       "      <td>Canceled</td>\n",
       "    </tr>\n",
       "    <tr>\n",
       "      <th>4</th>\n",
       "      <td>INN00005</td>\n",
       "      <td>2</td>\n",
       "      <td>0</td>\n",
       "      <td>1</td>\n",
       "      <td>1</td>\n",
       "      <td>Not Selected</td>\n",
       "      <td>0</td>\n",
       "      <td>Room_Type 1</td>\n",
       "      <td>48</td>\n",
       "      <td>2018</td>\n",
       "      <td>4</td>\n",
       "      <td>11</td>\n",
       "      <td>Online</td>\n",
       "      <td>0</td>\n",
       "      <td>0</td>\n",
       "      <td>0</td>\n",
       "      <td>94.50</td>\n",
       "      <td>0</td>\n",
       "      <td>Canceled</td>\n",
       "    </tr>\n",
       "  </tbody>\n",
       "</table>\n",
       "</div>"
      ],
      "text/plain": [
       "  Booking_ID  no_of_adults  no_of_children  no_of_weekend_nights  \\\n",
       "0   INN00001             2               0                     1   \n",
       "1   INN00002             2               0                     2   \n",
       "2   INN00003             1               0                     2   \n",
       "3   INN00004             2               0                     0   \n",
       "4   INN00005             2               0                     1   \n",
       "\n",
       "   no_of_week_nights type_of_meal_plan  required_car_parking_space  \\\n",
       "0                  2       Meal Plan 1                           0   \n",
       "1                  3      Not Selected                           0   \n",
       "2                  1       Meal Plan 1                           0   \n",
       "3                  2       Meal Plan 1                           0   \n",
       "4                  1      Not Selected                           0   \n",
       "\n",
       "  room_type_reserved  lead_time  arrival_year  arrival_month  arrival_date  \\\n",
       "0        Room_Type 1        224          2017             10             2   \n",
       "1        Room_Type 1          5          2018             11             6   \n",
       "2        Room_Type 1          1          2018              2            28   \n",
       "3        Room_Type 1        211          2018              5            20   \n",
       "4        Room_Type 1         48          2018              4            11   \n",
       "\n",
       "  market_segment_type  repeated_guest  no_of_previous_cancellations  \\\n",
       "0             Offline               0                             0   \n",
       "1              Online               0                             0   \n",
       "2              Online               0                             0   \n",
       "3              Online               0                             0   \n",
       "4              Online               0                             0   \n",
       "\n",
       "   no_of_previous_bookings_not_canceled  avg_price_per_room  \\\n",
       "0                                     0               65.00   \n",
       "1                                     0              106.68   \n",
       "2                                     0               60.00   \n",
       "3                                     0              100.00   \n",
       "4                                     0               94.50   \n",
       "\n",
       "   no_of_special_requests booking_status  \n",
       "0                       0   Not_Canceled  \n",
       "1                       1   Not_Canceled  \n",
       "2                       0       Canceled  \n",
       "3                       0       Canceled  \n",
       "4                       0       Canceled  "
      ]
     },
     "execution_count": 2,
     "metadata": {},
     "output_type": "execute_result"
    }
   ],
   "source": [
    "hr= pd.read_csv(r'hotelReservation.csv')\n",
    "hr.head()"
   ]
  },
  {
   "cell_type": "code",
   "execution_count": 3,
   "id": "500b82e2",
   "metadata": {},
   "outputs": [
    {
     "data": {
      "text/plain": [
       "(36275, 19)"
      ]
     },
     "execution_count": 3,
     "metadata": {},
     "output_type": "execute_result"
    }
   ],
   "source": [
    "hr.shape"
   ]
  },
  {
   "cell_type": "code",
   "execution_count": 4,
   "id": "6d458baa",
   "metadata": {},
   "outputs": [
    {
     "data": {
      "text/plain": [
       "Index(['Booking_ID', 'no_of_adults', 'no_of_children', 'no_of_weekend_nights',\n",
       "       'no_of_week_nights', 'type_of_meal_plan', 'required_car_parking_space',\n",
       "       'room_type_reserved', 'lead_time', 'arrival_year', 'arrival_month',\n",
       "       'arrival_date', 'market_segment_type', 'repeated_guest',\n",
       "       'no_of_previous_cancellations', 'no_of_previous_bookings_not_canceled',\n",
       "       'avg_price_per_room', 'no_of_special_requests', 'booking_status'],\n",
       "      dtype='object')"
      ]
     },
     "execution_count": 4,
     "metadata": {},
     "output_type": "execute_result"
    }
   ],
   "source": [
    "hr.columns"
   ]
  },
  {
   "cell_type": "code",
   "execution_count": 5,
   "id": "5bb2383f",
   "metadata": {},
   "outputs": [
    {
     "data": {
      "text/html": [
       "<div>\n",
       "<style scoped>\n",
       "    .dataframe tbody tr th:only-of-type {\n",
       "        vertical-align: middle;\n",
       "    }\n",
       "\n",
       "    .dataframe tbody tr th {\n",
       "        vertical-align: top;\n",
       "    }\n",
       "\n",
       "    .dataframe thead th {\n",
       "        text-align: right;\n",
       "    }\n",
       "</style>\n",
       "<table border=\"1\" class=\"dataframe\">\n",
       "  <thead>\n",
       "    <tr style=\"text-align: right;\">\n",
       "      <th></th>\n",
       "      <th>no_of_adults</th>\n",
       "      <th>no_of_children</th>\n",
       "      <th>no_of_weekend_nights</th>\n",
       "      <th>no_of_week_nights</th>\n",
       "      <th>required_car_parking_space</th>\n",
       "      <th>lead_time</th>\n",
       "      <th>arrival_year</th>\n",
       "      <th>arrival_month</th>\n",
       "      <th>arrival_date</th>\n",
       "      <th>repeated_guest</th>\n",
       "      <th>no_of_previous_cancellations</th>\n",
       "      <th>no_of_previous_bookings_not_canceled</th>\n",
       "      <th>avg_price_per_room</th>\n",
       "      <th>no_of_special_requests</th>\n",
       "    </tr>\n",
       "  </thead>\n",
       "  <tbody>\n",
       "    <tr>\n",
       "      <th>count</th>\n",
       "      <td>36275.000000</td>\n",
       "      <td>36275.000000</td>\n",
       "      <td>36275.000000</td>\n",
       "      <td>36275.000000</td>\n",
       "      <td>36275.000000</td>\n",
       "      <td>36275.000000</td>\n",
       "      <td>36275.000000</td>\n",
       "      <td>36275.000000</td>\n",
       "      <td>36275.000000</td>\n",
       "      <td>36275.000000</td>\n",
       "      <td>36275.000000</td>\n",
       "      <td>36275.000000</td>\n",
       "      <td>36275.000000</td>\n",
       "      <td>36275.000000</td>\n",
       "    </tr>\n",
       "    <tr>\n",
       "      <th>mean</th>\n",
       "      <td>1.844962</td>\n",
       "      <td>0.105279</td>\n",
       "      <td>0.810724</td>\n",
       "      <td>2.204300</td>\n",
       "      <td>0.030986</td>\n",
       "      <td>85.232557</td>\n",
       "      <td>2017.820427</td>\n",
       "      <td>7.423653</td>\n",
       "      <td>15.596995</td>\n",
       "      <td>0.025637</td>\n",
       "      <td>0.023349</td>\n",
       "      <td>0.153411</td>\n",
       "      <td>103.423539</td>\n",
       "      <td>0.619655</td>\n",
       "    </tr>\n",
       "    <tr>\n",
       "      <th>std</th>\n",
       "      <td>0.518715</td>\n",
       "      <td>0.402648</td>\n",
       "      <td>0.870644</td>\n",
       "      <td>1.410905</td>\n",
       "      <td>0.173281</td>\n",
       "      <td>85.930817</td>\n",
       "      <td>0.383836</td>\n",
       "      <td>3.069894</td>\n",
       "      <td>8.740447</td>\n",
       "      <td>0.158053</td>\n",
       "      <td>0.368331</td>\n",
       "      <td>1.754171</td>\n",
       "      <td>35.089424</td>\n",
       "      <td>0.786236</td>\n",
       "    </tr>\n",
       "    <tr>\n",
       "      <th>min</th>\n",
       "      <td>0.000000</td>\n",
       "      <td>0.000000</td>\n",
       "      <td>0.000000</td>\n",
       "      <td>0.000000</td>\n",
       "      <td>0.000000</td>\n",
       "      <td>0.000000</td>\n",
       "      <td>2017.000000</td>\n",
       "      <td>1.000000</td>\n",
       "      <td>1.000000</td>\n",
       "      <td>0.000000</td>\n",
       "      <td>0.000000</td>\n",
       "      <td>0.000000</td>\n",
       "      <td>0.000000</td>\n",
       "      <td>0.000000</td>\n",
       "    </tr>\n",
       "    <tr>\n",
       "      <th>25%</th>\n",
       "      <td>2.000000</td>\n",
       "      <td>0.000000</td>\n",
       "      <td>0.000000</td>\n",
       "      <td>1.000000</td>\n",
       "      <td>0.000000</td>\n",
       "      <td>17.000000</td>\n",
       "      <td>2018.000000</td>\n",
       "      <td>5.000000</td>\n",
       "      <td>8.000000</td>\n",
       "      <td>0.000000</td>\n",
       "      <td>0.000000</td>\n",
       "      <td>0.000000</td>\n",
       "      <td>80.300000</td>\n",
       "      <td>0.000000</td>\n",
       "    </tr>\n",
       "    <tr>\n",
       "      <th>50%</th>\n",
       "      <td>2.000000</td>\n",
       "      <td>0.000000</td>\n",
       "      <td>1.000000</td>\n",
       "      <td>2.000000</td>\n",
       "      <td>0.000000</td>\n",
       "      <td>57.000000</td>\n",
       "      <td>2018.000000</td>\n",
       "      <td>8.000000</td>\n",
       "      <td>16.000000</td>\n",
       "      <td>0.000000</td>\n",
       "      <td>0.000000</td>\n",
       "      <td>0.000000</td>\n",
       "      <td>99.450000</td>\n",
       "      <td>0.000000</td>\n",
       "    </tr>\n",
       "    <tr>\n",
       "      <th>75%</th>\n",
       "      <td>2.000000</td>\n",
       "      <td>0.000000</td>\n",
       "      <td>2.000000</td>\n",
       "      <td>3.000000</td>\n",
       "      <td>0.000000</td>\n",
       "      <td>126.000000</td>\n",
       "      <td>2018.000000</td>\n",
       "      <td>10.000000</td>\n",
       "      <td>23.000000</td>\n",
       "      <td>0.000000</td>\n",
       "      <td>0.000000</td>\n",
       "      <td>0.000000</td>\n",
       "      <td>120.000000</td>\n",
       "      <td>1.000000</td>\n",
       "    </tr>\n",
       "    <tr>\n",
       "      <th>max</th>\n",
       "      <td>4.000000</td>\n",
       "      <td>10.000000</td>\n",
       "      <td>7.000000</td>\n",
       "      <td>17.000000</td>\n",
       "      <td>1.000000</td>\n",
       "      <td>443.000000</td>\n",
       "      <td>2018.000000</td>\n",
       "      <td>12.000000</td>\n",
       "      <td>31.000000</td>\n",
       "      <td>1.000000</td>\n",
       "      <td>13.000000</td>\n",
       "      <td>58.000000</td>\n",
       "      <td>540.000000</td>\n",
       "      <td>5.000000</td>\n",
       "    </tr>\n",
       "  </tbody>\n",
       "</table>\n",
       "</div>"
      ],
      "text/plain": [
       "       no_of_adults  no_of_children  no_of_weekend_nights  no_of_week_nights  \\\n",
       "count  36275.000000    36275.000000          36275.000000       36275.000000   \n",
       "mean       1.844962        0.105279              0.810724           2.204300   \n",
       "std        0.518715        0.402648              0.870644           1.410905   \n",
       "min        0.000000        0.000000              0.000000           0.000000   \n",
       "25%        2.000000        0.000000              0.000000           1.000000   \n",
       "50%        2.000000        0.000000              1.000000           2.000000   \n",
       "75%        2.000000        0.000000              2.000000           3.000000   \n",
       "max        4.000000       10.000000              7.000000          17.000000   \n",
       "\n",
       "       required_car_parking_space     lead_time  arrival_year  arrival_month  \\\n",
       "count                36275.000000  36275.000000  36275.000000   36275.000000   \n",
       "mean                     0.030986     85.232557   2017.820427       7.423653   \n",
       "std                      0.173281     85.930817      0.383836       3.069894   \n",
       "min                      0.000000      0.000000   2017.000000       1.000000   \n",
       "25%                      0.000000     17.000000   2018.000000       5.000000   \n",
       "50%                      0.000000     57.000000   2018.000000       8.000000   \n",
       "75%                      0.000000    126.000000   2018.000000      10.000000   \n",
       "max                      1.000000    443.000000   2018.000000      12.000000   \n",
       "\n",
       "       arrival_date  repeated_guest  no_of_previous_cancellations  \\\n",
       "count  36275.000000    36275.000000                  36275.000000   \n",
       "mean      15.596995        0.025637                      0.023349   \n",
       "std        8.740447        0.158053                      0.368331   \n",
       "min        1.000000        0.000000                      0.000000   \n",
       "25%        8.000000        0.000000                      0.000000   \n",
       "50%       16.000000        0.000000                      0.000000   \n",
       "75%       23.000000        0.000000                      0.000000   \n",
       "max       31.000000        1.000000                     13.000000   \n",
       "\n",
       "       no_of_previous_bookings_not_canceled  avg_price_per_room  \\\n",
       "count                          36275.000000        36275.000000   \n",
       "mean                               0.153411          103.423539   \n",
       "std                                1.754171           35.089424   \n",
       "min                                0.000000            0.000000   \n",
       "25%                                0.000000           80.300000   \n",
       "50%                                0.000000           99.450000   \n",
       "75%                                0.000000          120.000000   \n",
       "max                               58.000000          540.000000   \n",
       "\n",
       "       no_of_special_requests  \n",
       "count            36275.000000  \n",
       "mean                 0.619655  \n",
       "std                  0.786236  \n",
       "min                  0.000000  \n",
       "25%                  0.000000  \n",
       "50%                  0.000000  \n",
       "75%                  1.000000  \n",
       "max                  5.000000  "
      ]
     },
     "execution_count": 5,
     "metadata": {},
     "output_type": "execute_result"
    }
   ],
   "source": [
    "hr.describe()"
   ]
  },
  {
   "cell_type": "markdown",
   "id": "ee9b65c3",
   "metadata": {},
   "source": [
    "delete less related factors, selected more related factors"
   ]
  },
  {
   "cell_type": "code",
   "execution_count": 6,
   "id": "9f631059",
   "metadata": {},
   "outputs": [],
   "source": [
    "hr=hr[['no_of_adults', 'no_of_children', 'no_of_weekend_nights',\n",
    "       'no_of_week_nights','room_type_reserved','avg_price_per_room', 'no_of_special_requests', 'booking_status']]"
   ]
  },
  {
   "cell_type": "code",
   "execution_count": 7,
   "id": "0ad31b30",
   "metadata": {},
   "outputs": [
    {
     "data": {
      "text/html": [
       "<div>\n",
       "<style scoped>\n",
       "    .dataframe tbody tr th:only-of-type {\n",
       "        vertical-align: middle;\n",
       "    }\n",
       "\n",
       "    .dataframe tbody tr th {\n",
       "        vertical-align: top;\n",
       "    }\n",
       "\n",
       "    .dataframe thead th {\n",
       "        text-align: right;\n",
       "    }\n",
       "</style>\n",
       "<table border=\"1\" class=\"dataframe\">\n",
       "  <thead>\n",
       "    <tr style=\"text-align: right;\">\n",
       "      <th></th>\n",
       "      <th>no_of_adults</th>\n",
       "      <th>no_of_children</th>\n",
       "      <th>no_of_weekend_nights</th>\n",
       "      <th>no_of_week_nights</th>\n",
       "      <th>room_type_reserved</th>\n",
       "      <th>avg_price_per_room</th>\n",
       "      <th>no_of_special_requests</th>\n",
       "      <th>booking_status</th>\n",
       "    </tr>\n",
       "  </thead>\n",
       "  <tbody>\n",
       "    <tr>\n",
       "      <th>34934</th>\n",
       "      <td>3</td>\n",
       "      <td>0</td>\n",
       "      <td>2</td>\n",
       "      <td>2</td>\n",
       "      <td>Room_Type 4</td>\n",
       "      <td>146.7</td>\n",
       "      <td>0</td>\n",
       "      <td>Canceled</td>\n",
       "    </tr>\n",
       "  </tbody>\n",
       "</table>\n",
       "</div>"
      ],
      "text/plain": [
       "       no_of_adults  no_of_children  no_of_weekend_nights  no_of_week_nights  \\\n",
       "34934             3               0                     2                  2   \n",
       "\n",
       "      room_type_reserved  avg_price_per_room  no_of_special_requests  \\\n",
       "34934        Room_Type 4               146.7                       0   \n",
       "\n",
       "      booking_status  \n",
       "34934       Canceled  "
      ]
     },
     "execution_count": 7,
     "metadata": {},
     "output_type": "execute_result"
    }
   ],
   "source": [
    "hr.sample()"
   ]
  },
  {
   "cell_type": "code",
   "execution_count": 8,
   "id": "b42da377",
   "metadata": {},
   "outputs": [
    {
     "data": {
      "text/plain": [
       "no_of_adults              0\n",
       "no_of_children            0\n",
       "no_of_weekend_nights      0\n",
       "no_of_week_nights         0\n",
       "room_type_reserved        0\n",
       "avg_price_per_room        0\n",
       "no_of_special_requests    0\n",
       "booking_status            0\n",
       "dtype: int64"
      ]
     },
     "execution_count": 8,
     "metadata": {},
     "output_type": "execute_result"
    }
   ],
   "source": [
    "# data no missing value\n",
    "hr.isna().sum()"
   ]
  },
  {
   "cell_type": "code",
   "execution_count": 9,
   "id": "dc048b6b",
   "metadata": {},
   "outputs": [
    {
     "data": {
      "text/plain": [
       "no_of_adults                int64\n",
       "no_of_children              int64\n",
       "no_of_weekend_nights        int64\n",
       "no_of_week_nights           int64\n",
       "room_type_reserved         object\n",
       "avg_price_per_room        float64\n",
       "no_of_special_requests      int64\n",
       "booking_status             object\n",
       "dtype: object"
      ]
     },
     "execution_count": 9,
     "metadata": {},
     "output_type": "execute_result"
    }
   ],
   "source": [
    "hr.dtypes"
   ]
  },
  {
   "cell_type": "markdown",
   "id": "7d6c6428",
   "metadata": {},
   "source": [
    "# Change str value into numeric value"
   ]
  },
  {
   "cell_type": "code",
   "execution_count": 10,
   "id": "ce1acacb",
   "metadata": {},
   "outputs": [
    {
     "data": {
      "text/plain": [
       "Not_Canceled    24390\n",
       "Canceled        11885\n",
       "Name: booking_status, dtype: int64"
      ]
     },
     "execution_count": 10,
     "metadata": {},
     "output_type": "execute_result"
    }
   ],
   "source": [
    "hr['booking_status'].value_counts()"
   ]
  },
  {
   "cell_type": "code",
   "execution_count": 11,
   "id": "549cb24c",
   "metadata": {},
   "outputs": [],
   "source": [
    "#set booking_status: not_canceled as 0, cancelled as 1\n",
    "hr['booking_status'] = hr['booking_status'].replace(['Not_Canceled','Canceled'], [0,1])\n"
   ]
  },
  {
   "cell_type": "code",
   "execution_count": 12,
   "id": "9bea6799",
   "metadata": {},
   "outputs": [
    {
     "data": {
      "text/plain": [
       "0    24390\n",
       "1    11885\n",
       "Name: booking_status, dtype: int64"
      ]
     },
     "execution_count": 12,
     "metadata": {},
     "output_type": "execute_result"
    }
   ],
   "source": [
    "hr['booking_status'].value_counts()"
   ]
  },
  {
   "cell_type": "markdown",
   "id": "92dbb927",
   "metadata": {},
   "source": [
    "# Set dummy variable by number of room sold decending order"
   ]
  },
  {
   "cell_type": "code",
   "execution_count": 13,
   "id": "b1cd90d6",
   "metadata": {},
   "outputs": [
    {
     "data": {
      "text/plain": [
       "Room_Type 1    28130\n",
       "Room_Type 4     6057\n",
       "Room_Type 6      966\n",
       "Room_Type 2      692\n",
       "Room_Type 5      265\n",
       "Room_Type 7      158\n",
       "Room_Type 3        7\n",
       "Name: room_type_reserved, dtype: int64"
      ]
     },
     "execution_count": 13,
     "metadata": {},
     "output_type": "execute_result"
    }
   ],
   "source": [
    "hr['room_type_reserved'].value_counts()"
   ]
  },
  {
   "cell_type": "code",
   "execution_count": 14,
   "id": "bdb0fa41",
   "metadata": {},
   "outputs": [
    {
     "data": {
      "text/plain": [
       "1    28130\n",
       "2     6057\n",
       "3      966\n",
       "4      692\n",
       "5      265\n",
       "6      158\n",
       "7        7\n",
       "Name: room_type_reserved, dtype: int64"
      ]
     },
     "execution_count": 14,
     "metadata": {},
     "output_type": "execute_result"
    }
   ],
   "source": [
    "#dummy variable label order based on NO.room sold\n",
    "hr['room_type_reserved']= hr['room_type_reserved'].replace(['Room_Type 1','Room_Type 4','Room_Type 6','Room_Type 2','Room_Type 5','Room_Type 7','Room_Type 3'],[1,2,3,4,5,6,7])\n",
    "hr['room_type_reserved'].value_counts()"
   ]
  },
  {
   "cell_type": "code",
   "execution_count": 15,
   "id": "dbdc8e12",
   "metadata": {},
   "outputs": [
    {
     "data": {
      "text/plain": [
       "room_type_reserved\n",
       "7     73.678571\n",
       "4     87.848555\n",
       "1     95.918532\n",
       "5    123.733623\n",
       "2    125.287317\n",
       "6    155.198291\n",
       "3    182.212836\n",
       "Name: avg_price_per_room, dtype: float64"
      ]
     },
     "execution_count": 15,
     "metadata": {},
     "output_type": "execute_result"
    }
   ],
   "source": [
    "#each room type avg_sold_price\n",
    "hr.groupby(hr['room_type_reserved'])['avg_price_per_room'].mean().sort_values()"
   ]
  },
  {
   "cell_type": "code",
   "execution_count": 16,
   "id": "ba67df12",
   "metadata": {},
   "outputs": [],
   "source": [
    "#add additional total nights and no_guests columns in dataset\n",
    "hr['nights']=hr['no_of_weekend_nights']+hr['no_of_week_nights']\n",
    "hr['people']=hr['no_of_adults']+hr['no_of_children']"
   ]
  },
  {
   "cell_type": "code",
   "execution_count": 17,
   "id": "843632dd",
   "metadata": {},
   "outputs": [
    {
     "data": {
      "text/plain": [
       "(36275, 10)"
      ]
     },
     "execution_count": 17,
     "metadata": {},
     "output_type": "execute_result"
    }
   ],
   "source": [
    "hr.shape"
   ]
  },
  {
   "cell_type": "code",
   "execution_count": 18,
   "id": "9963e45b",
   "metadata": {},
   "outputs": [
    {
     "data": {
      "text/html": [
       "<div>\n",
       "<style scoped>\n",
       "    .dataframe tbody tr th:only-of-type {\n",
       "        vertical-align: middle;\n",
       "    }\n",
       "\n",
       "    .dataframe tbody tr th {\n",
       "        vertical-align: top;\n",
       "    }\n",
       "\n",
       "    .dataframe thead th {\n",
       "        text-align: right;\n",
       "    }\n",
       "</style>\n",
       "<table border=\"1\" class=\"dataframe\">\n",
       "  <thead>\n",
       "    <tr style=\"text-align: right;\">\n",
       "      <th></th>\n",
       "      <th>no_of_adults</th>\n",
       "      <th>no_of_children</th>\n",
       "      <th>no_of_weekend_nights</th>\n",
       "      <th>no_of_week_nights</th>\n",
       "      <th>room_type_reserved</th>\n",
       "      <th>avg_price_per_room</th>\n",
       "      <th>no_of_special_requests</th>\n",
       "      <th>booking_status</th>\n",
       "      <th>nights</th>\n",
       "      <th>people</th>\n",
       "    </tr>\n",
       "  </thead>\n",
       "  <tbody>\n",
       "    <tr>\n",
       "      <th>no_of_adults</th>\n",
       "      <td>1.000000</td>\n",
       "      <td>-0.019787</td>\n",
       "      <td>0.103316</td>\n",
       "      <td>0.105622</td>\n",
       "      <td>0.143541</td>\n",
       "      <td>0.296886</td>\n",
       "      <td>0.189401</td>\n",
       "      <td>0.086920</td>\n",
       "      <td>0.133803</td>\n",
       "      <td>0.785371</td>\n",
       "    </tr>\n",
       "    <tr>\n",
       "      <th>no_of_children</th>\n",
       "      <td>-0.019787</td>\n",
       "      <td>1.000000</td>\n",
       "      <td>0.029478</td>\n",
       "      <td>0.024398</td>\n",
       "      <td>0.383411</td>\n",
       "      <td>0.337728</td>\n",
       "      <td>0.124486</td>\n",
       "      <td>0.033078</td>\n",
       "      <td>0.033644</td>\n",
       "      <td>0.603365</td>\n",
       "    </tr>\n",
       "    <tr>\n",
       "      <th>no_of_weekend_nights</th>\n",
       "      <td>0.103316</td>\n",
       "      <td>0.029478</td>\n",
       "      <td>1.000000</td>\n",
       "      <td>0.179577</td>\n",
       "      <td>0.042310</td>\n",
       "      <td>-0.004525</td>\n",
       "      <td>0.060593</td>\n",
       "      <td>0.061563</td>\n",
       "      <td>0.629339</td>\n",
       "      <td>0.100658</td>\n",
       "    </tr>\n",
       "    <tr>\n",
       "      <th>no_of_week_nights</th>\n",
       "      <td>0.105622</td>\n",
       "      <td>0.024398</td>\n",
       "      <td>0.179577</td>\n",
       "      <td>1.000000</td>\n",
       "      <td>0.063633</td>\n",
       "      <td>0.022753</td>\n",
       "      <td>0.045994</td>\n",
       "      <td>0.092996</td>\n",
       "      <td>0.877513</td>\n",
       "      <td>0.099352</td>\n",
       "    </tr>\n",
       "    <tr>\n",
       "      <th>room_type_reserved</th>\n",
       "      <td>0.143541</td>\n",
       "      <td>0.383411</td>\n",
       "      <td>0.042310</td>\n",
       "      <td>0.063633</td>\n",
       "      <td>1.000000</td>\n",
       "      <td>0.326440</td>\n",
       "      <td>0.109385</td>\n",
       "      <td>0.009922</td>\n",
       "      <td>0.070894</td>\n",
       "      <td>0.351879</td>\n",
       "    </tr>\n",
       "    <tr>\n",
       "      <th>avg_price_per_room</th>\n",
       "      <td>0.296886</td>\n",
       "      <td>0.337728</td>\n",
       "      <td>-0.004525</td>\n",
       "      <td>0.022753</td>\n",
       "      <td>0.326440</td>\n",
       "      <td>1.000000</td>\n",
       "      <td>0.184381</td>\n",
       "      <td>0.142569</td>\n",
       "      <td>0.015768</td>\n",
       "      <td>0.445906</td>\n",
       "    </tr>\n",
       "    <tr>\n",
       "      <th>no_of_special_requests</th>\n",
       "      <td>0.189401</td>\n",
       "      <td>0.124486</td>\n",
       "      <td>0.060593</td>\n",
       "      <td>0.045994</td>\n",
       "      <td>0.109385</td>\n",
       "      <td>0.184381</td>\n",
       "      <td>1.000000</td>\n",
       "      <td>-0.253070</td>\n",
       "      <td>0.065871</td>\n",
       "      <td>0.228146</td>\n",
       "    </tr>\n",
       "    <tr>\n",
       "      <th>booking_status</th>\n",
       "      <td>0.086920</td>\n",
       "      <td>0.033078</td>\n",
       "      <td>0.061563</td>\n",
       "      <td>0.092996</td>\n",
       "      <td>0.009922</td>\n",
       "      <td>0.142569</td>\n",
       "      <td>-0.253070</td>\n",
       "      <td>1.000000</td>\n",
       "      <td>0.103475</td>\n",
       "      <td>0.089810</td>\n",
       "    </tr>\n",
       "    <tr>\n",
       "      <th>nights</th>\n",
       "      <td>0.133803</td>\n",
       "      <td>0.033644</td>\n",
       "      <td>0.629339</td>\n",
       "      <td>0.877513</td>\n",
       "      <td>0.070894</td>\n",
       "      <td>0.015768</td>\n",
       "      <td>0.065871</td>\n",
       "      <td>0.103475</td>\n",
       "      <td>1.000000</td>\n",
       "      <td>0.127554</td>\n",
       "    </tr>\n",
       "    <tr>\n",
       "      <th>people</th>\n",
       "      <td>0.785371</td>\n",
       "      <td>0.603365</td>\n",
       "      <td>0.100658</td>\n",
       "      <td>0.099352</td>\n",
       "      <td>0.351879</td>\n",
       "      <td>0.445906</td>\n",
       "      <td>0.228146</td>\n",
       "      <td>0.089810</td>\n",
       "      <td>0.127554</td>\n",
       "      <td>1.000000</td>\n",
       "    </tr>\n",
       "  </tbody>\n",
       "</table>\n",
       "</div>"
      ],
      "text/plain": [
       "                        no_of_adults  no_of_children  no_of_weekend_nights  \\\n",
       "no_of_adults                1.000000       -0.019787              0.103316   \n",
       "no_of_children             -0.019787        1.000000              0.029478   \n",
       "no_of_weekend_nights        0.103316        0.029478              1.000000   \n",
       "no_of_week_nights           0.105622        0.024398              0.179577   \n",
       "room_type_reserved          0.143541        0.383411              0.042310   \n",
       "avg_price_per_room          0.296886        0.337728             -0.004525   \n",
       "no_of_special_requests      0.189401        0.124486              0.060593   \n",
       "booking_status              0.086920        0.033078              0.061563   \n",
       "nights                      0.133803        0.033644              0.629339   \n",
       "people                      0.785371        0.603365              0.100658   \n",
       "\n",
       "                        no_of_week_nights  room_type_reserved  \\\n",
       "no_of_adults                     0.105622            0.143541   \n",
       "no_of_children                   0.024398            0.383411   \n",
       "no_of_weekend_nights             0.179577            0.042310   \n",
       "no_of_week_nights                1.000000            0.063633   \n",
       "room_type_reserved               0.063633            1.000000   \n",
       "avg_price_per_room               0.022753            0.326440   \n",
       "no_of_special_requests           0.045994            0.109385   \n",
       "booking_status                   0.092996            0.009922   \n",
       "nights                           0.877513            0.070894   \n",
       "people                           0.099352            0.351879   \n",
       "\n",
       "                        avg_price_per_room  no_of_special_requests  \\\n",
       "no_of_adults                      0.296886                0.189401   \n",
       "no_of_children                    0.337728                0.124486   \n",
       "no_of_weekend_nights             -0.004525                0.060593   \n",
       "no_of_week_nights                 0.022753                0.045994   \n",
       "room_type_reserved                0.326440                0.109385   \n",
       "avg_price_per_room                1.000000                0.184381   \n",
       "no_of_special_requests            0.184381                1.000000   \n",
       "booking_status                    0.142569               -0.253070   \n",
       "nights                            0.015768                0.065871   \n",
       "people                            0.445906                0.228146   \n",
       "\n",
       "                        booking_status    nights    people  \n",
       "no_of_adults                  0.086920  0.133803  0.785371  \n",
       "no_of_children                0.033078  0.033644  0.603365  \n",
       "no_of_weekend_nights          0.061563  0.629339  0.100658  \n",
       "no_of_week_nights             0.092996  0.877513  0.099352  \n",
       "room_type_reserved            0.009922  0.070894  0.351879  \n",
       "avg_price_per_room            0.142569  0.015768  0.445906  \n",
       "no_of_special_requests       -0.253070  0.065871  0.228146  \n",
       "booking_status                1.000000  0.103475  0.089810  \n",
       "nights                        0.103475  1.000000  0.127554  \n",
       "people                        0.089810  0.127554  1.000000  "
      ]
     },
     "execution_count": 18,
     "metadata": {},
     "output_type": "execute_result"
    }
   ],
   "source": [
    "hr.corr()"
   ]
  },
  {
   "cell_type": "markdown",
   "id": "9cd081ec",
   "metadata": {},
   "source": [
    "# Delete No.children=9& 10 (3 pieces of data), have childen&no adult (139 pieces of data), booking night record=0 (78 pieces of data) and avg_room_price=0 (541 pieces of data)."
   ]
  },
  {
   "cell_type": "code",
   "execution_count": 19,
   "id": "e0538e40",
   "metadata": {},
   "outputs": [
    {
     "data": {
      "text/plain": [
       "0     33577\n",
       "1      1618\n",
       "2      1058\n",
       "3        19\n",
       "9         2\n",
       "10        1\n",
       "Name: no_of_children, dtype: int64"
      ]
     },
     "execution_count": 19,
     "metadata": {},
     "output_type": "execute_result"
    }
   ],
   "source": [
    "hr['no_of_children'].value_counts()"
   ]
  },
  {
   "cell_type": "code",
   "execution_count": 20,
   "id": "936e7473",
   "metadata": {},
   "outputs": [
    {
     "data": {
      "text/html": [
       "<div>\n",
       "<style scoped>\n",
       "    .dataframe tbody tr th:only-of-type {\n",
       "        vertical-align: middle;\n",
       "    }\n",
       "\n",
       "    .dataframe tbody tr th {\n",
       "        vertical-align: top;\n",
       "    }\n",
       "\n",
       "    .dataframe thead th {\n",
       "        text-align: right;\n",
       "    }\n",
       "</style>\n",
       "<table border=\"1\" class=\"dataframe\">\n",
       "  <thead>\n",
       "    <tr style=\"text-align: right;\">\n",
       "      <th></th>\n",
       "      <th>no_of_adults</th>\n",
       "      <th>no_of_children</th>\n",
       "      <th>no_of_weekend_nights</th>\n",
       "      <th>no_of_week_nights</th>\n",
       "      <th>room_type_reserved</th>\n",
       "      <th>avg_price_per_room</th>\n",
       "      <th>no_of_special_requests</th>\n",
       "      <th>booking_status</th>\n",
       "      <th>nights</th>\n",
       "      <th>people</th>\n",
       "    </tr>\n",
       "  </thead>\n",
       "  <tbody>\n",
       "    <tr>\n",
       "      <th>32</th>\n",
       "      <td>0</td>\n",
       "      <td>2</td>\n",
       "      <td>0</td>\n",
       "      <td>3</td>\n",
       "      <td>4</td>\n",
       "      <td>82.44</td>\n",
       "      <td>1</td>\n",
       "      <td>0</td>\n",
       "      <td>3</td>\n",
       "      <td>2</td>\n",
       "    </tr>\n",
       "    <tr>\n",
       "      <th>287</th>\n",
       "      <td>0</td>\n",
       "      <td>2</td>\n",
       "      <td>2</td>\n",
       "      <td>2</td>\n",
       "      <td>1</td>\n",
       "      <td>108.38</td>\n",
       "      <td>1</td>\n",
       "      <td>1</td>\n",
       "      <td>4</td>\n",
       "      <td>2</td>\n",
       "    </tr>\n",
       "    <tr>\n",
       "      <th>653</th>\n",
       "      <td>0</td>\n",
       "      <td>2</td>\n",
       "      <td>1</td>\n",
       "      <td>2</td>\n",
       "      <td>4</td>\n",
       "      <td>115.68</td>\n",
       "      <td>1</td>\n",
       "      <td>0</td>\n",
       "      <td>3</td>\n",
       "      <td>2</td>\n",
       "    </tr>\n",
       "    <tr>\n",
       "      <th>937</th>\n",
       "      <td>0</td>\n",
       "      <td>2</td>\n",
       "      <td>0</td>\n",
       "      <td>3</td>\n",
       "      <td>4</td>\n",
       "      <td>6.67</td>\n",
       "      <td>1</td>\n",
       "      <td>0</td>\n",
       "      <td>3</td>\n",
       "      <td>2</td>\n",
       "    </tr>\n",
       "    <tr>\n",
       "      <th>954</th>\n",
       "      <td>0</td>\n",
       "      <td>2</td>\n",
       "      <td>1</td>\n",
       "      <td>1</td>\n",
       "      <td>4</td>\n",
       "      <td>81.50</td>\n",
       "      <td>2</td>\n",
       "      <td>0</td>\n",
       "      <td>2</td>\n",
       "      <td>2</td>\n",
       "    </tr>\n",
       "    <tr>\n",
       "      <th>...</th>\n",
       "      <td>...</td>\n",
       "      <td>...</td>\n",
       "      <td>...</td>\n",
       "      <td>...</td>\n",
       "      <td>...</td>\n",
       "      <td>...</td>\n",
       "      <td>...</td>\n",
       "      <td>...</td>\n",
       "      <td>...</td>\n",
       "      <td>...</td>\n",
       "    </tr>\n",
       "    <tr>\n",
       "      <th>34720</th>\n",
       "      <td>0</td>\n",
       "      <td>2</td>\n",
       "      <td>0</td>\n",
       "      <td>3</td>\n",
       "      <td>4</td>\n",
       "      <td>127.38</td>\n",
       "      <td>3</td>\n",
       "      <td>0</td>\n",
       "      <td>3</td>\n",
       "      <td>2</td>\n",
       "    </tr>\n",
       "    <tr>\n",
       "      <th>34730</th>\n",
       "      <td>0</td>\n",
       "      <td>2</td>\n",
       "      <td>1</td>\n",
       "      <td>1</td>\n",
       "      <td>4</td>\n",
       "      <td>88.77</td>\n",
       "      <td>0</td>\n",
       "      <td>1</td>\n",
       "      <td>2</td>\n",
       "      <td>2</td>\n",
       "    </tr>\n",
       "    <tr>\n",
       "      <th>34890</th>\n",
       "      <td>0</td>\n",
       "      <td>2</td>\n",
       "      <td>2</td>\n",
       "      <td>2</td>\n",
       "      <td>4</td>\n",
       "      <td>124.25</td>\n",
       "      <td>2</td>\n",
       "      <td>0</td>\n",
       "      <td>4</td>\n",
       "      <td>2</td>\n",
       "    </tr>\n",
       "    <tr>\n",
       "      <th>35691</th>\n",
       "      <td>0</td>\n",
       "      <td>2</td>\n",
       "      <td>2</td>\n",
       "      <td>1</td>\n",
       "      <td>4</td>\n",
       "      <td>78.00</td>\n",
       "      <td>0</td>\n",
       "      <td>1</td>\n",
       "      <td>3</td>\n",
       "      <td>2</td>\n",
       "    </tr>\n",
       "    <tr>\n",
       "      <th>35797</th>\n",
       "      <td>0</td>\n",
       "      <td>2</td>\n",
       "      <td>0</td>\n",
       "      <td>2</td>\n",
       "      <td>4</td>\n",
       "      <td>97.55</td>\n",
       "      <td>0</td>\n",
       "      <td>0</td>\n",
       "      <td>2</td>\n",
       "      <td>2</td>\n",
       "    </tr>\n",
       "  </tbody>\n",
       "</table>\n",
       "<p>139 rows × 10 columns</p>\n",
       "</div>"
      ],
      "text/plain": [
       "       no_of_adults  no_of_children  no_of_weekend_nights  no_of_week_nights  \\\n",
       "32                0               2                     0                  3   \n",
       "287               0               2                     2                  2   \n",
       "653               0               2                     1                  2   \n",
       "937               0               2                     0                  3   \n",
       "954               0               2                     1                  1   \n",
       "...             ...             ...                   ...                ...   \n",
       "34720             0               2                     0                  3   \n",
       "34730             0               2                     1                  1   \n",
       "34890             0               2                     2                  2   \n",
       "35691             0               2                     2                  1   \n",
       "35797             0               2                     0                  2   \n",
       "\n",
       "       room_type_reserved  avg_price_per_room  no_of_special_requests  \\\n",
       "32                      4               82.44                       1   \n",
       "287                     1              108.38                       1   \n",
       "653                     4              115.68                       1   \n",
       "937                     4                6.67                       1   \n",
       "954                     4               81.50                       2   \n",
       "...                   ...                 ...                     ...   \n",
       "34720                   4              127.38                       3   \n",
       "34730                   4               88.77                       0   \n",
       "34890                   4              124.25                       2   \n",
       "35691                   4               78.00                       0   \n",
       "35797                   4               97.55                       0   \n",
       "\n",
       "       booking_status  nights  people  \n",
       "32                  0       3       2  \n",
       "287                 1       4       2  \n",
       "653                 0       3       2  \n",
       "937                 0       3       2  \n",
       "954                 0       2       2  \n",
       "...               ...     ...     ...  \n",
       "34720               0       3       2  \n",
       "34730               1       2       2  \n",
       "34890               0       4       2  \n",
       "35691               1       3       2  \n",
       "35797               0       2       2  \n",
       "\n",
       "[139 rows x 10 columns]"
      ]
     },
     "execution_count": 20,
     "metadata": {},
     "output_type": "execute_result"
    }
   ],
   "source": [
    "hr[hr['no_of_adults']==0]"
   ]
  },
  {
   "cell_type": "code",
   "execution_count": 21,
   "id": "a6042d4b",
   "metadata": {},
   "outputs": [
    {
     "data": {
      "text/html": [
       "<div>\n",
       "<style scoped>\n",
       "    .dataframe tbody tr th:only-of-type {\n",
       "        vertical-align: middle;\n",
       "    }\n",
       "\n",
       "    .dataframe tbody tr th {\n",
       "        vertical-align: top;\n",
       "    }\n",
       "\n",
       "    .dataframe thead th {\n",
       "        text-align: right;\n",
       "    }\n",
       "</style>\n",
       "<table border=\"1\" class=\"dataframe\">\n",
       "  <thead>\n",
       "    <tr style=\"text-align: right;\">\n",
       "      <th></th>\n",
       "      <th>no_of_adults</th>\n",
       "      <th>no_of_children</th>\n",
       "      <th>no_of_weekend_nights</th>\n",
       "      <th>no_of_week_nights</th>\n",
       "      <th>room_type_reserved</th>\n",
       "      <th>avg_price_per_room</th>\n",
       "      <th>no_of_special_requests</th>\n",
       "      <th>booking_status</th>\n",
       "      <th>nights</th>\n",
       "      <th>people</th>\n",
       "    </tr>\n",
       "  </thead>\n",
       "  <tbody>\n",
       "    <tr>\n",
       "      <th>209</th>\n",
       "      <td>1</td>\n",
       "      <td>0</td>\n",
       "      <td>0</td>\n",
       "      <td>0</td>\n",
       "      <td>1</td>\n",
       "      <td>0.0</td>\n",
       "      <td>1</td>\n",
       "      <td>0</td>\n",
       "      <td>0</td>\n",
       "      <td>1</td>\n",
       "    </tr>\n",
       "    <tr>\n",
       "      <th>1158</th>\n",
       "      <td>2</td>\n",
       "      <td>0</td>\n",
       "      <td>0</td>\n",
       "      <td>0</td>\n",
       "      <td>1</td>\n",
       "      <td>0.0</td>\n",
       "      <td>1</td>\n",
       "      <td>0</td>\n",
       "      <td>0</td>\n",
       "      <td>2</td>\n",
       "    </tr>\n",
       "    <tr>\n",
       "      <th>1403</th>\n",
       "      <td>3</td>\n",
       "      <td>0</td>\n",
       "      <td>0</td>\n",
       "      <td>0</td>\n",
       "      <td>2</td>\n",
       "      <td>0.0</td>\n",
       "      <td>2</td>\n",
       "      <td>0</td>\n",
       "      <td>0</td>\n",
       "      <td>3</td>\n",
       "    </tr>\n",
       "    <tr>\n",
       "      <th>1907</th>\n",
       "      <td>2</td>\n",
       "      <td>0</td>\n",
       "      <td>0</td>\n",
       "      <td>0</td>\n",
       "      <td>1</td>\n",
       "      <td>0.0</td>\n",
       "      <td>1</td>\n",
       "      <td>0</td>\n",
       "      <td>0</td>\n",
       "      <td>2</td>\n",
       "    </tr>\n",
       "    <tr>\n",
       "      <th>1986</th>\n",
       "      <td>2</td>\n",
       "      <td>0</td>\n",
       "      <td>0</td>\n",
       "      <td>0</td>\n",
       "      <td>1</td>\n",
       "      <td>0.0</td>\n",
       "      <td>1</td>\n",
       "      <td>0</td>\n",
       "      <td>0</td>\n",
       "      <td>2</td>\n",
       "    </tr>\n",
       "    <tr>\n",
       "      <th>...</th>\n",
       "      <td>...</td>\n",
       "      <td>...</td>\n",
       "      <td>...</td>\n",
       "      <td>...</td>\n",
       "      <td>...</td>\n",
       "      <td>...</td>\n",
       "      <td>...</td>\n",
       "      <td>...</td>\n",
       "      <td>...</td>\n",
       "      <td>...</td>\n",
       "    </tr>\n",
       "    <tr>\n",
       "      <th>33218</th>\n",
       "      <td>1</td>\n",
       "      <td>0</td>\n",
       "      <td>0</td>\n",
       "      <td>0</td>\n",
       "      <td>1</td>\n",
       "      <td>0.0</td>\n",
       "      <td>0</td>\n",
       "      <td>0</td>\n",
       "      <td>0</td>\n",
       "      <td>1</td>\n",
       "    </tr>\n",
       "    <tr>\n",
       "      <th>33537</th>\n",
       "      <td>2</td>\n",
       "      <td>0</td>\n",
       "      <td>0</td>\n",
       "      <td>0</td>\n",
       "      <td>4</td>\n",
       "      <td>0.0</td>\n",
       "      <td>2</td>\n",
       "      <td>0</td>\n",
       "      <td>0</td>\n",
       "      <td>2</td>\n",
       "    </tr>\n",
       "    <tr>\n",
       "      <th>34750</th>\n",
       "      <td>1</td>\n",
       "      <td>0</td>\n",
       "      <td>0</td>\n",
       "      <td>0</td>\n",
       "      <td>2</td>\n",
       "      <td>0.0</td>\n",
       "      <td>0</td>\n",
       "      <td>0</td>\n",
       "      <td>0</td>\n",
       "      <td>1</td>\n",
       "    </tr>\n",
       "    <tr>\n",
       "      <th>35472</th>\n",
       "      <td>1</td>\n",
       "      <td>0</td>\n",
       "      <td>0</td>\n",
       "      <td>0</td>\n",
       "      <td>1</td>\n",
       "      <td>0.0</td>\n",
       "      <td>0</td>\n",
       "      <td>0</td>\n",
       "      <td>0</td>\n",
       "      <td>1</td>\n",
       "    </tr>\n",
       "    <tr>\n",
       "      <th>35949</th>\n",
       "      <td>2</td>\n",
       "      <td>0</td>\n",
       "      <td>0</td>\n",
       "      <td>0</td>\n",
       "      <td>1</td>\n",
       "      <td>0.0</td>\n",
       "      <td>0</td>\n",
       "      <td>0</td>\n",
       "      <td>0</td>\n",
       "      <td>2</td>\n",
       "    </tr>\n",
       "  </tbody>\n",
       "</table>\n",
       "<p>78 rows × 10 columns</p>\n",
       "</div>"
      ],
      "text/plain": [
       "       no_of_adults  no_of_children  no_of_weekend_nights  no_of_week_nights  \\\n",
       "209               1               0                     0                  0   \n",
       "1158              2               0                     0                  0   \n",
       "1403              3               0                     0                  0   \n",
       "1907              2               0                     0                  0   \n",
       "1986              2               0                     0                  0   \n",
       "...             ...             ...                   ...                ...   \n",
       "33218             1               0                     0                  0   \n",
       "33537             2               0                     0                  0   \n",
       "34750             1               0                     0                  0   \n",
       "35472             1               0                     0                  0   \n",
       "35949             2               0                     0                  0   \n",
       "\n",
       "       room_type_reserved  avg_price_per_room  no_of_special_requests  \\\n",
       "209                     1                 0.0                       1   \n",
       "1158                    1                 0.0                       1   \n",
       "1403                    2                 0.0                       2   \n",
       "1907                    1                 0.0                       1   \n",
       "1986                    1                 0.0                       1   \n",
       "...                   ...                 ...                     ...   \n",
       "33218                   1                 0.0                       0   \n",
       "33537                   4                 0.0                       2   \n",
       "34750                   2                 0.0                       0   \n",
       "35472                   1                 0.0                       0   \n",
       "35949                   1                 0.0                       0   \n",
       "\n",
       "       booking_status  nights  people  \n",
       "209                 0       0       1  \n",
       "1158                0       0       2  \n",
       "1403                0       0       3  \n",
       "1907                0       0       2  \n",
       "1986                0       0       2  \n",
       "...               ...     ...     ...  \n",
       "33218               0       0       1  \n",
       "33537               0       0       2  \n",
       "34750               0       0       1  \n",
       "35472               0       0       1  \n",
       "35949               0       0       2  \n",
       "\n",
       "[78 rows x 10 columns]"
      ]
     },
     "execution_count": 21,
     "metadata": {},
     "output_type": "execute_result"
    }
   ],
   "source": [
    "hr[hr['nights']==0]"
   ]
  },
  {
   "cell_type": "code",
   "execution_count": 22,
   "id": "4eb72e1e",
   "metadata": {},
   "outputs": [
    {
     "data": {
      "text/html": [
       "<div>\n",
       "<style scoped>\n",
       "    .dataframe tbody tr th:only-of-type {\n",
       "        vertical-align: middle;\n",
       "    }\n",
       "\n",
       "    .dataframe tbody tr th {\n",
       "        vertical-align: top;\n",
       "    }\n",
       "\n",
       "    .dataframe thead th {\n",
       "        text-align: right;\n",
       "    }\n",
       "</style>\n",
       "<table border=\"1\" class=\"dataframe\">\n",
       "  <thead>\n",
       "    <tr style=\"text-align: right;\">\n",
       "      <th></th>\n",
       "      <th>no_of_adults</th>\n",
       "      <th>no_of_children</th>\n",
       "      <th>no_of_weekend_nights</th>\n",
       "      <th>no_of_week_nights</th>\n",
       "      <th>room_type_reserved</th>\n",
       "      <th>avg_price_per_room</th>\n",
       "      <th>no_of_special_requests</th>\n",
       "      <th>booking_status</th>\n",
       "      <th>nights</th>\n",
       "      <th>people</th>\n",
       "    </tr>\n",
       "  </thead>\n",
       "  <tbody>\n",
       "    <tr>\n",
       "      <th>63</th>\n",
       "      <td>1</td>\n",
       "      <td>0</td>\n",
       "      <td>0</td>\n",
       "      <td>1</td>\n",
       "      <td>1</td>\n",
       "      <td>0.0</td>\n",
       "      <td>1</td>\n",
       "      <td>0</td>\n",
       "      <td>1</td>\n",
       "      <td>1</td>\n",
       "    </tr>\n",
       "    <tr>\n",
       "      <th>145</th>\n",
       "      <td>1</td>\n",
       "      <td>0</td>\n",
       "      <td>0</td>\n",
       "      <td>2</td>\n",
       "      <td>1</td>\n",
       "      <td>0.0</td>\n",
       "      <td>1</td>\n",
       "      <td>0</td>\n",
       "      <td>2</td>\n",
       "      <td>1</td>\n",
       "    </tr>\n",
       "    <tr>\n",
       "      <th>209</th>\n",
       "      <td>1</td>\n",
       "      <td>0</td>\n",
       "      <td>0</td>\n",
       "      <td>0</td>\n",
       "      <td>1</td>\n",
       "      <td>0.0</td>\n",
       "      <td>1</td>\n",
       "      <td>0</td>\n",
       "      <td>0</td>\n",
       "      <td>1</td>\n",
       "    </tr>\n",
       "    <tr>\n",
       "      <th>266</th>\n",
       "      <td>1</td>\n",
       "      <td>0</td>\n",
       "      <td>0</td>\n",
       "      <td>2</td>\n",
       "      <td>1</td>\n",
       "      <td>0.0</td>\n",
       "      <td>1</td>\n",
       "      <td>0</td>\n",
       "      <td>2</td>\n",
       "      <td>1</td>\n",
       "    </tr>\n",
       "    <tr>\n",
       "      <th>267</th>\n",
       "      <td>1</td>\n",
       "      <td>0</td>\n",
       "      <td>2</td>\n",
       "      <td>1</td>\n",
       "      <td>1</td>\n",
       "      <td>0.0</td>\n",
       "      <td>1</td>\n",
       "      <td>0</td>\n",
       "      <td>3</td>\n",
       "      <td>1</td>\n",
       "    </tr>\n",
       "    <tr>\n",
       "      <th>...</th>\n",
       "      <td>...</td>\n",
       "      <td>...</td>\n",
       "      <td>...</td>\n",
       "      <td>...</td>\n",
       "      <td>...</td>\n",
       "      <td>...</td>\n",
       "      <td>...</td>\n",
       "      <td>...</td>\n",
       "      <td>...</td>\n",
       "      <td>...</td>\n",
       "    </tr>\n",
       "    <tr>\n",
       "      <th>35983</th>\n",
       "      <td>1</td>\n",
       "      <td>0</td>\n",
       "      <td>0</td>\n",
       "      <td>1</td>\n",
       "      <td>6</td>\n",
       "      <td>0.0</td>\n",
       "      <td>1</td>\n",
       "      <td>0</td>\n",
       "      <td>1</td>\n",
       "      <td>1</td>\n",
       "    </tr>\n",
       "    <tr>\n",
       "      <th>36080</th>\n",
       "      <td>1</td>\n",
       "      <td>0</td>\n",
       "      <td>1</td>\n",
       "      <td>1</td>\n",
       "      <td>6</td>\n",
       "      <td>0.0</td>\n",
       "      <td>1</td>\n",
       "      <td>0</td>\n",
       "      <td>2</td>\n",
       "      <td>1</td>\n",
       "    </tr>\n",
       "    <tr>\n",
       "      <th>36114</th>\n",
       "      <td>1</td>\n",
       "      <td>0</td>\n",
       "      <td>0</td>\n",
       "      <td>1</td>\n",
       "      <td>1</td>\n",
       "      <td>0.0</td>\n",
       "      <td>0</td>\n",
       "      <td>0</td>\n",
       "      <td>1</td>\n",
       "      <td>1</td>\n",
       "    </tr>\n",
       "    <tr>\n",
       "      <th>36217</th>\n",
       "      <td>2</td>\n",
       "      <td>0</td>\n",
       "      <td>2</td>\n",
       "      <td>1</td>\n",
       "      <td>4</td>\n",
       "      <td>0.0</td>\n",
       "      <td>2</td>\n",
       "      <td>0</td>\n",
       "      <td>3</td>\n",
       "      <td>2</td>\n",
       "    </tr>\n",
       "    <tr>\n",
       "      <th>36250</th>\n",
       "      <td>1</td>\n",
       "      <td>0</td>\n",
       "      <td>0</td>\n",
       "      <td>2</td>\n",
       "      <td>1</td>\n",
       "      <td>0.0</td>\n",
       "      <td>0</td>\n",
       "      <td>0</td>\n",
       "      <td>2</td>\n",
       "      <td>1</td>\n",
       "    </tr>\n",
       "  </tbody>\n",
       "</table>\n",
       "<p>545 rows × 10 columns</p>\n",
       "</div>"
      ],
      "text/plain": [
       "       no_of_adults  no_of_children  no_of_weekend_nights  no_of_week_nights  \\\n",
       "63                1               0                     0                  1   \n",
       "145               1               0                     0                  2   \n",
       "209               1               0                     0                  0   \n",
       "266               1               0                     0                  2   \n",
       "267               1               0                     2                  1   \n",
       "...             ...             ...                   ...                ...   \n",
       "35983             1               0                     0                  1   \n",
       "36080             1               0                     1                  1   \n",
       "36114             1               0                     0                  1   \n",
       "36217             2               0                     2                  1   \n",
       "36250             1               0                     0                  2   \n",
       "\n",
       "       room_type_reserved  avg_price_per_room  no_of_special_requests  \\\n",
       "63                      1                 0.0                       1   \n",
       "145                     1                 0.0                       1   \n",
       "209                     1                 0.0                       1   \n",
       "266                     1                 0.0                       1   \n",
       "267                     1                 0.0                       1   \n",
       "...                   ...                 ...                     ...   \n",
       "35983                   6                 0.0                       1   \n",
       "36080                   6                 0.0                       1   \n",
       "36114                   1                 0.0                       0   \n",
       "36217                   4                 0.0                       2   \n",
       "36250                   1                 0.0                       0   \n",
       "\n",
       "       booking_status  nights  people  \n",
       "63                  0       1       1  \n",
       "145                 0       2       1  \n",
       "209                 0       0       1  \n",
       "266                 0       2       1  \n",
       "267                 0       3       1  \n",
       "...               ...     ...     ...  \n",
       "35983               0       1       1  \n",
       "36080               0       2       1  \n",
       "36114               0       1       1  \n",
       "36217               0       3       2  \n",
       "36250               0       2       1  \n",
       "\n",
       "[545 rows x 10 columns]"
      ]
     },
     "execution_count": 22,
     "metadata": {},
     "output_type": "execute_result"
    }
   ],
   "source": [
    "hr[hr['avg_price_per_room']==0]"
   ]
  },
  {
   "cell_type": "code",
   "execution_count": 23,
   "id": "aad94f79",
   "metadata": {},
   "outputs": [],
   "source": [
    "hr=hr[hr['no_of_children']<=3]\n",
    "hr=hr[hr['no_of_adults']!=0]\n",
    "hr=hr[hr['nights']!=0]\n",
    "hr=hr[hr['avg_price_per_room']!=0]"
   ]
  },
  {
   "cell_type": "code",
   "execution_count": 24,
   "id": "d4498648",
   "metadata": {},
   "outputs": [
    {
     "data": {
      "text/plain": [
       "(35592, 10)"
      ]
     },
     "execution_count": 24,
     "metadata": {},
     "output_type": "execute_result"
    }
   ],
   "source": [
    "hr.shape"
   ]
  },
  {
   "cell_type": "code",
   "execution_count": 25,
   "id": "2b35702f",
   "metadata": {},
   "outputs": [
    {
     "data": {
      "text/html": [
       "<div>\n",
       "<style scoped>\n",
       "    .dataframe tbody tr th:only-of-type {\n",
       "        vertical-align: middle;\n",
       "    }\n",
       "\n",
       "    .dataframe tbody tr th {\n",
       "        vertical-align: top;\n",
       "    }\n",
       "\n",
       "    .dataframe thead th {\n",
       "        text-align: right;\n",
       "    }\n",
       "</style>\n",
       "<table border=\"1\" class=\"dataframe\">\n",
       "  <thead>\n",
       "    <tr style=\"text-align: right;\">\n",
       "      <th></th>\n",
       "      <th>no_of_adults</th>\n",
       "      <th>no_of_children</th>\n",
       "      <th>no_of_weekend_nights</th>\n",
       "      <th>no_of_week_nights</th>\n",
       "      <th>room_type_reserved</th>\n",
       "      <th>avg_price_per_room</th>\n",
       "      <th>no_of_special_requests</th>\n",
       "      <th>booking_status</th>\n",
       "      <th>nights</th>\n",
       "      <th>people</th>\n",
       "    </tr>\n",
       "  </thead>\n",
       "  <tbody>\n",
       "    <tr>\n",
       "      <th>no_of_adults</th>\n",
       "      <td>1.000000</td>\n",
       "      <td>0.048765</td>\n",
       "      <td>0.103048</td>\n",
       "      <td>0.105110</td>\n",
       "      <td>0.209380</td>\n",
       "      <td>0.284841</td>\n",
       "      <td>0.202157</td>\n",
       "      <td>0.082482</td>\n",
       "      <td>0.133577</td>\n",
       "      <td>0.811993</td>\n",
       "    </tr>\n",
       "    <tr>\n",
       "      <th>no_of_children</th>\n",
       "      <td>0.048765</td>\n",
       "      <td>1.000000</td>\n",
       "      <td>0.028541</td>\n",
       "      <td>0.022810</td>\n",
       "      <td>0.357980</td>\n",
       "      <td>0.405274</td>\n",
       "      <td>0.124745</td>\n",
       "      <td>0.036248</td>\n",
       "      <td>0.032010</td>\n",
       "      <td>0.622569</td>\n",
       "    </tr>\n",
       "    <tr>\n",
       "      <th>no_of_weekend_nights</th>\n",
       "      <td>0.103048</td>\n",
       "      <td>0.028541</td>\n",
       "      <td>1.000000</td>\n",
       "      <td>0.173889</td>\n",
       "      <td>0.050355</td>\n",
       "      <td>-0.034738</td>\n",
       "      <td>0.063062</td>\n",
       "      <td>0.055703</td>\n",
       "      <td>0.626745</td>\n",
       "      <td>0.097416</td>\n",
       "    </tr>\n",
       "    <tr>\n",
       "      <th>no_of_week_nights</th>\n",
       "      <td>0.105110</td>\n",
       "      <td>0.022810</td>\n",
       "      <td>0.173889</td>\n",
       "      <td>1.000000</td>\n",
       "      <td>0.075898</td>\n",
       "      <td>-0.011027</td>\n",
       "      <td>0.050078</td>\n",
       "      <td>0.085651</td>\n",
       "      <td>0.876337</td>\n",
       "      <td>0.095682</td>\n",
       "    </tr>\n",
       "    <tr>\n",
       "      <th>room_type_reserved</th>\n",
       "      <td>0.209380</td>\n",
       "      <td>0.357980</td>\n",
       "      <td>0.050355</td>\n",
       "      <td>0.075898</td>\n",
       "      <td>1.000000</td>\n",
       "      <td>0.415439</td>\n",
       "      <td>0.097826</td>\n",
       "      <td>0.018108</td>\n",
       "      <td>0.084687</td>\n",
       "      <td>0.373238</td>\n",
       "    </tr>\n",
       "    <tr>\n",
       "      <th>avg_price_per_room</th>\n",
       "      <td>0.284841</td>\n",
       "      <td>0.405274</td>\n",
       "      <td>-0.034738</td>\n",
       "      <td>-0.011027</td>\n",
       "      <td>0.415439</td>\n",
       "      <td>1.000000</td>\n",
       "      <td>0.210470</td>\n",
       "      <td>0.121158</td>\n",
       "      <td>-0.025717</td>\n",
       "      <td>0.459998</td>\n",
       "    </tr>\n",
       "    <tr>\n",
       "      <th>no_of_special_requests</th>\n",
       "      <td>0.202157</td>\n",
       "      <td>0.124745</td>\n",
       "      <td>0.063062</td>\n",
       "      <td>0.050078</td>\n",
       "      <td>0.097826</td>\n",
       "      <td>0.210470</td>\n",
       "      <td>1.000000</td>\n",
       "      <td>-0.254290</td>\n",
       "      <td>0.070472</td>\n",
       "      <td>0.231286</td>\n",
       "    </tr>\n",
       "    <tr>\n",
       "      <th>booking_status</th>\n",
       "      <td>0.082482</td>\n",
       "      <td>0.036248</td>\n",
       "      <td>0.055703</td>\n",
       "      <td>0.085651</td>\n",
       "      <td>0.018108</td>\n",
       "      <td>0.121158</td>\n",
       "      <td>-0.254290</td>\n",
       "      <td>1.000000</td>\n",
       "      <td>0.095021</td>\n",
       "      <td>0.085806</td>\n",
       "    </tr>\n",
       "    <tr>\n",
       "      <th>nights</th>\n",
       "      <td>0.133577</td>\n",
       "      <td>0.032010</td>\n",
       "      <td>0.626745</td>\n",
       "      <td>0.876337</td>\n",
       "      <td>0.084687</td>\n",
       "      <td>-0.025717</td>\n",
       "      <td>0.070472</td>\n",
       "      <td>0.095021</td>\n",
       "      <td>1.000000</td>\n",
       "      <td>0.123363</td>\n",
       "    </tr>\n",
       "    <tr>\n",
       "      <th>people</th>\n",
       "      <td>0.811993</td>\n",
       "      <td>0.622569</td>\n",
       "      <td>0.097416</td>\n",
       "      <td>0.095682</td>\n",
       "      <td>0.373238</td>\n",
       "      <td>0.459998</td>\n",
       "      <td>0.231286</td>\n",
       "      <td>0.085806</td>\n",
       "      <td>0.123363</td>\n",
       "      <td>1.000000</td>\n",
       "    </tr>\n",
       "  </tbody>\n",
       "</table>\n",
       "</div>"
      ],
      "text/plain": [
       "                        no_of_adults  no_of_children  no_of_weekend_nights  \\\n",
       "no_of_adults                1.000000        0.048765              0.103048   \n",
       "no_of_children              0.048765        1.000000              0.028541   \n",
       "no_of_weekend_nights        0.103048        0.028541              1.000000   \n",
       "no_of_week_nights           0.105110        0.022810              0.173889   \n",
       "room_type_reserved          0.209380        0.357980              0.050355   \n",
       "avg_price_per_room          0.284841        0.405274             -0.034738   \n",
       "no_of_special_requests      0.202157        0.124745              0.063062   \n",
       "booking_status              0.082482        0.036248              0.055703   \n",
       "nights                      0.133577        0.032010              0.626745   \n",
       "people                      0.811993        0.622569              0.097416   \n",
       "\n",
       "                        no_of_week_nights  room_type_reserved  \\\n",
       "no_of_adults                     0.105110            0.209380   \n",
       "no_of_children                   0.022810            0.357980   \n",
       "no_of_weekend_nights             0.173889            0.050355   \n",
       "no_of_week_nights                1.000000            0.075898   \n",
       "room_type_reserved               0.075898            1.000000   \n",
       "avg_price_per_room              -0.011027            0.415439   \n",
       "no_of_special_requests           0.050078            0.097826   \n",
       "booking_status                   0.085651            0.018108   \n",
       "nights                           0.876337            0.084687   \n",
       "people                           0.095682            0.373238   \n",
       "\n",
       "                        avg_price_per_room  no_of_special_requests  \\\n",
       "no_of_adults                      0.284841                0.202157   \n",
       "no_of_children                    0.405274                0.124745   \n",
       "no_of_weekend_nights             -0.034738                0.063062   \n",
       "no_of_week_nights                -0.011027                0.050078   \n",
       "room_type_reserved                0.415439                0.097826   \n",
       "avg_price_per_room                1.000000                0.210470   \n",
       "no_of_special_requests            0.210470                1.000000   \n",
       "booking_status                    0.121158               -0.254290   \n",
       "nights                           -0.025717                0.070472   \n",
       "people                            0.459998                0.231286   \n",
       "\n",
       "                        booking_status    nights    people  \n",
       "no_of_adults                  0.082482  0.133577  0.811993  \n",
       "no_of_children                0.036248  0.032010  0.622569  \n",
       "no_of_weekend_nights          0.055703  0.626745  0.097416  \n",
       "no_of_week_nights             0.085651  0.876337  0.095682  \n",
       "room_type_reserved            0.018108  0.084687  0.373238  \n",
       "avg_price_per_room            0.121158 -0.025717  0.459998  \n",
       "no_of_special_requests       -0.254290  0.070472  0.231286  \n",
       "booking_status                1.000000  0.095021  0.085806  \n",
       "nights                        0.095021  1.000000  0.123363  \n",
       "people                        0.085806  0.123363  1.000000  "
      ]
     },
     "execution_count": 25,
     "metadata": {},
     "output_type": "execute_result"
    }
   ],
   "source": [
    "#total_nights--cancellation and total_guests-- cancellation correlation are higher than week/weekend, adult/children \n",
    "hr.corr()"
   ]
  },
  {
   "cell_type": "markdown",
   "id": "a32a0eb7",
   "metadata": {},
   "source": [
    "#standarlise data "
   ]
  },
  {
   "cell_type": "code",
   "execution_count": 26,
   "id": "3ec55492",
   "metadata": {},
   "outputs": [],
   "source": [
    "#Set variable and target\n",
    "X=hr.iloc[:,:-3]\n",
    "y=hr['booking_status']"
   ]
  },
  {
   "cell_type": "code",
   "execution_count": 27,
   "id": "110bd490",
   "metadata": {},
   "outputs": [],
   "source": [
    "from sklearn.preprocessing import StandardScaler\n",
    "scaler = StandardScaler()\n",
    "X = scaler.fit_transform(X)\n"
   ]
  },
  {
   "cell_type": "code",
   "execution_count": 28,
   "id": "27bdfcd6",
   "metadata": {},
   "outputs": [],
   "source": [
    "from sklearn.model_selection import train_test_split\n",
    "X_train,X_test,y_train,y_test= train_test_split(X,y,test_size=0.2, random_state=20)"
   ]
  },
  {
   "cell_type": "markdown",
   "id": "68762822",
   "metadata": {},
   "source": [
    "Compare svm and LogisticRegression"
   ]
  },
  {
   "cell_type": "code",
   "execution_count": 30,
   "id": "e9b69166",
   "metadata": {},
   "outputs": [
    {
     "data": {
      "text/plain": [
       "True     20160\n",
       "False     8313\n",
       "Name: booking_status, dtype: int64"
      ]
     },
     "execution_count": 30,
     "metadata": {},
     "output_type": "execute_result"
    }
   ],
   "source": [
    "#logistic regression is better than svm in this model\n",
    "from sklearn.linear_model import LogisticRegression\n",
    "lor= LogisticRegression(max_iter=100000).fit(X_train,y_train)\n",
    "(lor.predict(X_train)==y_train).value_counts()"
   ]
  },
  {
   "cell_type": "code",
   "execution_count": 31,
   "id": "ea1a86cd",
   "metadata": {},
   "outputs": [
    {
     "data": {
      "text/plain": [
       "array([[ 0.2179249 ,  0.01262844,  0.14823951,  0.2118134 , -0.15491326,\n",
       "         0.45240746, -0.86063194]])"
      ]
     },
     "execution_count": 31,
     "metadata": {},
     "output_type": "execute_result"
    }
   ],
   "source": [
    "lor.coef_"
   ]
  },
  {
   "cell_type": "code",
   "execution_count": 32,
   "id": "1d9333b6",
   "metadata": {},
   "outputs": [
    {
     "data": {
      "text/plain": [
       "0.7123191459474645"
      ]
     },
     "execution_count": 32,
     "metadata": {},
     "output_type": "execute_result"
    }
   ],
   "source": [
    "from sklearn.metrics import accuracy_score\n",
    "accuracy_score(lor.predict(X_test),y_test)\n"
   ]
  },
  {
   "cell_type": "code",
   "execution_count": 33,
   "id": "27c12518",
   "metadata": {},
   "outputs": [],
   "source": [
    "#Logistic model has 71.2% accuracy to predict cancellation status"
   ]
  },
  {
   "cell_type": "code",
   "execution_count": 34,
   "id": "dd8cede3",
   "metadata": {},
   "outputs": [
    {
     "data": {
      "text/plain": [
       "array([0.70856742, 0.7127809 , 0.7008427 , 0.70926966, 0.68728039])"
      ]
     },
     "execution_count": 34,
     "metadata": {},
     "output_type": "execute_result"
    }
   ],
   "source": [
    "from sklearn.model_selection import cross_val_score\n",
    "cross_val_score(lor, X_test, y_test, cv=5)"
   ]
  },
  {
   "cell_type": "code",
   "execution_count": 35,
   "id": "5ae158e5",
   "metadata": {},
   "outputs": [],
   "source": [
    "from sklearn.metrics import roc_curve\n",
    "fpr, tpr, thresholds = roc_curve(y_test, lor.predict(X_test), pos_label=1)"
   ]
  },
  {
   "cell_type": "code",
   "execution_count": 36,
   "id": "979c819c",
   "metadata": {},
   "outputs": [
    {
     "data": {
      "text/plain": [
       "[<matplotlib.lines.Line2D at 0x239a19c6790>]"
      ]
     },
     "execution_count": 36,
     "metadata": {},
     "output_type": "execute_result"
    },
    {
     "data": {
      "image/png": "[encoded data removed]",
      "text/plain": [
       "<Figure size 432x288 with 1 Axes>"
      ]
     },
     "metadata": {
      "needs_background": "light"
     },
     "output_type": "display_data"
    }
   ],
   "source": [
    "plt.plot(fpr,tpr)"
   ]
  },
  {
   "cell_type": "code",
   "execution_count": 37,
   "id": "0ea66f5d",
   "metadata": {},
   "outputs": [
    {
     "data": {
      "text/html": [
       "<div>\n",
       "<style scoped>\n",
       "    .dataframe tbody tr th:only-of-type {\n",
       "        vertical-align: middle;\n",
       "    }\n",
       "\n",
       "    .dataframe tbody tr th {\n",
       "        vertical-align: top;\n",
       "    }\n",
       "\n",
       "    .dataframe thead th {\n",
       "        text-align: right;\n",
       "    }\n",
       "</style>\n",
       "<table border=\"1\" class=\"dataframe\">\n",
       "  <thead>\n",
       "    <tr style=\"text-align: right;\">\n",
       "      <th></th>\n",
       "      <th>no_of_adults</th>\n",
       "      <th>no_of_children</th>\n",
       "      <th>no_of_weekend_nights</th>\n",
       "      <th>no_of_week_nights</th>\n",
       "      <th>room_type_reserved</th>\n",
       "      <th>avg_price_per_room</th>\n",
       "      <th>no_of_special_requests</th>\n",
       "      <th>booking_status</th>\n",
       "      <th>nights</th>\n",
       "      <th>people</th>\n",
       "    </tr>\n",
       "  </thead>\n",
       "  <tbody>\n",
       "    <tr>\n",
       "      <th>no_of_adults</th>\n",
       "      <td>1.000000</td>\n",
       "      <td>0.048765</td>\n",
       "      <td>0.103048</td>\n",
       "      <td>0.105110</td>\n",
       "      <td>0.209380</td>\n",
       "      <td>0.284841</td>\n",
       "      <td>0.202157</td>\n",
       "      <td>0.082482</td>\n",
       "      <td>0.133577</td>\n",
       "      <td>0.811993</td>\n",
       "    </tr>\n",
       "    <tr>\n",
       "      <th>no_of_children</th>\n",
       "      <td>0.048765</td>\n",
       "      <td>1.000000</td>\n",
       "      <td>0.028541</td>\n",
       "      <td>0.022810</td>\n",
       "      <td>0.357980</td>\n",
       "      <td>0.405274</td>\n",
       "      <td>0.124745</td>\n",
       "      <td>0.036248</td>\n",
       "      <td>0.032010</td>\n",
       "      <td>0.622569</td>\n",
       "    </tr>\n",
       "    <tr>\n",
       "      <th>no_of_weekend_nights</th>\n",
       "      <td>0.103048</td>\n",
       "      <td>0.028541</td>\n",
       "      <td>1.000000</td>\n",
       "      <td>0.173889</td>\n",
       "      <td>0.050355</td>\n",
       "      <td>-0.034738</td>\n",
       "      <td>0.063062</td>\n",
       "      <td>0.055703</td>\n",
       "      <td>0.626745</td>\n",
       "      <td>0.097416</td>\n",
       "    </tr>\n",
       "    <tr>\n",
       "      <th>no_of_week_nights</th>\n",
       "      <td>0.105110</td>\n",
       "      <td>0.022810</td>\n",
       "      <td>0.173889</td>\n",
       "      <td>1.000000</td>\n",
       "      <td>0.075898</td>\n",
       "      <td>-0.011027</td>\n",
       "      <td>0.050078</td>\n",
       "      <td>0.085651</td>\n",
       "      <td>0.876337</td>\n",
       "      <td>0.095682</td>\n",
       "    </tr>\n",
       "    <tr>\n",
       "      <th>room_type_reserved</th>\n",
       "      <td>0.209380</td>\n",
       "      <td>0.357980</td>\n",
       "      <td>0.050355</td>\n",
       "      <td>0.075898</td>\n",
       "      <td>1.000000</td>\n",
       "      <td>0.415439</td>\n",
       "      <td>0.097826</td>\n",
       "      <td>0.018108</td>\n",
       "      <td>0.084687</td>\n",
       "      <td>0.373238</td>\n",
       "    </tr>\n",
       "    <tr>\n",
       "      <th>avg_price_per_room</th>\n",
       "      <td>0.284841</td>\n",
       "      <td>0.405274</td>\n",
       "      <td>-0.034738</td>\n",
       "      <td>-0.011027</td>\n",
       "      <td>0.415439</td>\n",
       "      <td>1.000000</td>\n",
       "      <td>0.210470</td>\n",
       "      <td>0.121158</td>\n",
       "      <td>-0.025717</td>\n",
       "      <td>0.459998</td>\n",
       "    </tr>\n",
       "    <tr>\n",
       "      <th>no_of_special_requests</th>\n",
       "      <td>0.202157</td>\n",
       "      <td>0.124745</td>\n",
       "      <td>0.063062</td>\n",
       "      <td>0.050078</td>\n",
       "      <td>0.097826</td>\n",
       "      <td>0.210470</td>\n",
       "      <td>1.000000</td>\n",
       "      <td>-0.254290</td>\n",
       "      <td>0.070472</td>\n",
       "      <td>0.231286</td>\n",
       "    </tr>\n",
       "    <tr>\n",
       "      <th>booking_status</th>\n",
       "      <td>0.082482</td>\n",
       "      <td>0.036248</td>\n",
       "      <td>0.055703</td>\n",
       "      <td>0.085651</td>\n",
       "      <td>0.018108</td>\n",
       "      <td>0.121158</td>\n",
       "      <td>-0.254290</td>\n",
       "      <td>1.000000</td>\n",
       "      <td>0.095021</td>\n",
       "      <td>0.085806</td>\n",
       "    </tr>\n",
       "    <tr>\n",
       "      <th>nights</th>\n",
       "      <td>0.133577</td>\n",
       "      <td>0.032010</td>\n",
       "      <td>0.626745</td>\n",
       "      <td>0.876337</td>\n",
       "      <td>0.084687</td>\n",
       "      <td>-0.025717</td>\n",
       "      <td>0.070472</td>\n",
       "      <td>0.095021</td>\n",
       "      <td>1.000000</td>\n",
       "      <td>0.123363</td>\n",
       "    </tr>\n",
       "    <tr>\n",
       "      <th>people</th>\n",
       "      <td>0.811993</td>\n",
       "      <td>0.622569</td>\n",
       "      <td>0.097416</td>\n",
       "      <td>0.095682</td>\n",
       "      <td>0.373238</td>\n",
       "      <td>0.459998</td>\n",
       "      <td>0.231286</td>\n",
       "      <td>0.085806</td>\n",
       "      <td>0.123363</td>\n",
       "      <td>1.000000</td>\n",
       "    </tr>\n",
       "  </tbody>\n",
       "</table>\n",
       "</div>"
      ],
      "text/plain": [
       "                        no_of_adults  no_of_children  no_of_weekend_nights  \\\n",
       "no_of_adults                1.000000        0.048765              0.103048   \n",
       "no_of_children              0.048765        1.000000              0.028541   \n",
       "no_of_weekend_nights        0.103048        0.028541              1.000000   \n",
       "no_of_week_nights           0.105110        0.022810              0.173889   \n",
       "room_type_reserved          0.209380        0.357980              0.050355   \n",
       "avg_price_per_room          0.284841        0.405274             -0.034738   \n",
       "no_of_special_requests      0.202157        0.124745              0.063062   \n",
       "booking_status              0.082482        0.036248              0.055703   \n",
       "nights                      0.133577        0.032010              0.626745   \n",
       "people                      0.811993        0.622569              0.097416   \n",
       "\n",
       "                        no_of_week_nights  room_type_reserved  \\\n",
       "no_of_adults                     0.105110            0.209380   \n",
       "no_of_children                   0.022810            0.357980   \n",
       "no_of_weekend_nights             0.173889            0.050355   \n",
       "no_of_week_nights                1.000000            0.075898   \n",
       "room_type_reserved               0.075898            1.000000   \n",
       "avg_price_per_room              -0.011027            0.415439   \n",
       "no_of_special_requests           0.050078            0.097826   \n",
       "booking_status                   0.085651            0.018108   \n",
       "nights                           0.876337            0.084687   \n",
       "people                           0.095682            0.373238   \n",
       "\n",
       "                        avg_price_per_room  no_of_special_requests  \\\n",
       "no_of_adults                      0.284841                0.202157   \n",
       "no_of_children                    0.405274                0.124745   \n",
       "no_of_weekend_nights             -0.034738                0.063062   \n",
       "no_of_week_nights                -0.011027                0.050078   \n",
       "room_type_reserved                0.415439                0.097826   \n",
       "avg_price_per_room                1.000000                0.210470   \n",
       "no_of_special_requests            0.210470                1.000000   \n",
       "booking_status                    0.121158               -0.254290   \n",
       "nights                           -0.025717                0.070472   \n",
       "people                            0.459998                0.231286   \n",
       "\n",
       "                        booking_status    nights    people  \n",
       "no_of_adults                  0.082482  0.133577  0.811993  \n",
       "no_of_children                0.036248  0.032010  0.622569  \n",
       "no_of_weekend_nights          0.055703  0.626745  0.097416  \n",
       "no_of_week_nights             0.085651  0.876337  0.095682  \n",
       "room_type_reserved            0.018108  0.084687  0.373238  \n",
       "avg_price_per_room            0.121158 -0.025717  0.459998  \n",
       "no_of_special_requests       -0.254290  0.070472  0.231286  \n",
       "booking_status                1.000000  0.095021  0.085806  \n",
       "nights                        0.095021  1.000000  0.123363  \n",
       "people                        0.085806  0.123363  1.000000  "
      ]
     },
     "execution_count": 37,
     "metadata": {},
     "output_type": "execute_result"
    }
   ],
   "source": [
    "hr.corr()"
   ]
  },
  {
   "cell_type": "code",
   "execution_count": 38,
   "id": "8e211897",
   "metadata": {},
   "outputs": [],
   "source": [
    "X1=hr[['nights','people','room_type_reserved','avg_price_per_room','no_of_special_requests']]\n",
    "y=hr['booking_status']"
   ]
  },
  {
   "cell_type": "code",
   "execution_count": 39,
   "id": "6fdabe59",
   "metadata": {},
   "outputs": [
    {
     "data": {
      "text/plain": [
       "0.710212108442197"
      ]
     },
     "execution_count": 39,
     "metadata": {},
     "output_type": "execute_result"
    }
   ],
   "source": [
    "from sklearn.preprocessing import StandardScaler\n",
    "scaler = StandardScaler()\n",
    "X1 = scaler.fit_transform(X1)\n",
    "from sklearn.model_selection import train_test_split\n",
    "X1_train,X1_test,y_train,y_test= train_test_split(X1,y,test_size=0.2, random_state=20)\n",
    "from sklearn.linear_model import LogisticRegression\n",
    "lorr= LogisticRegression(max_iter=100000).fit(X1_train,y_train)\n",
    "lorr.predict(X1_train)\n",
    "(lorr.predict(X1_train)==y_train).sum()\n",
    "accuracy_score(lorr.predict(X1_test),y_test)"
   ]
  },
  {
   "cell_type": "code",
   "execution_count": 40,
   "id": "2da52188",
   "metadata": {},
   "outputs": [
    {
     "data": {
      "text/plain": [
       "array([[ 0.28373208,  0.19986807, -0.17379033,  0.43251615, -0.85278452]])"
      ]
     },
     "execution_count": 40,
     "metadata": {},
     "output_type": "execute_result"
    }
   ],
   "source": [
    "lorr.coef_"
   ]
  },
  {
   "cell_type": "code",
   "execution_count": 41,
   "id": "39621f18",
   "metadata": {},
   "outputs": [
    {
     "data": {
      "text/plain": [
       "0.710212108442197"
      ]
     },
     "execution_count": 41,
     "metadata": {},
     "output_type": "execute_result"
    }
   ],
   "source": [
    "#Grid_search find a suitable model for the data\n",
    "from sklearn.model_selection import GridSearchCV\n",
    "loro = LogisticRegression(max_iter=1000000)\n",
    "parameters1 = {\"C\": [1, 10, 100],\n",
    "              \"solver\": ['lbfgs', 'liblinear', 'newton-cg','sag','saga'], \n",
    "             }\n",
    "grid = GridSearchCV(estimator=loro, param_grid = parameters1, cv = 4)\n",
    "grid.fit(X1_train, y_train)\n",
    "grid.score(X1_test,y_test)"
   ]
  },
  {
   "cell_type": "code",
   "execution_count": 42,
   "id": "fba53be2",
   "metadata": {},
   "outputs": [
    {
     "data": {
      "text/plain": [
       "{'C': 1, 'solver': 'lbfgs'}"
      ]
     },
     "execution_count": 42,
     "metadata": {},
     "output_type": "execute_result"
    }
   ],
   "source": [
    "grid.best_params_"
   ]
  },
  {
   "cell_type": "markdown",
   "id": "03a60241",
   "metadata": {},
   "source": [
    "using best params to predict cancellation"
   ]
  },
  {
   "cell_type": "code",
   "execution_count": 43,
   "id": "3d053b7f",
   "metadata": {},
   "outputs": [
    {
     "data": {
      "text/plain": [
       "0.710212108442197"
      ]
     },
     "execution_count": 43,
     "metadata": {},
     "output_type": "execute_result"
    }
   ],
   "source": [
    "lor_c=LogisticRegression(C=1, solver='lbfgs',max_iter=1000000).fit(X1_train, y_train)\n",
    "accuracy_score(lor_c.predict(X1_test),y_test)"
   ]
  },
  {
   "cell_type": "code",
   "execution_count": 44,
   "id": "6363d0ea",
   "metadata": {},
   "outputs": [
    {
     "data": {
      "text/plain": [
       "array([0.70997191, 0.70997191, 0.69592697, 0.70997191, 0.69290232])"
      ]
     },
     "execution_count": 44,
     "metadata": {},
     "output_type": "execute_result"
    }
   ],
   "source": [
    "from sklearn.model_selection import cross_val_score\n",
    "cross_val_score(lor_c, X1_test, y_test, cv=5)"
   ]
  },
  {
   "cell_type": "code",
   "execution_count": 45,
   "id": "22fcd4c5",
   "metadata": {},
   "outputs": [
    {
     "data": {
      "text/plain": [
       "array([[4392,  402],\n",
       "       [1661,  664]], dtype=int64)"
      ]
     },
     "execution_count": 45,
     "metadata": {},
     "output_type": "execute_result"
    }
   ],
   "source": [
    "from sklearn.metrics import confusion_matrix\n",
    "confusion_matrix( y_test, lor_c.predict(X1_test))"
   ]
  },
  {
   "cell_type": "code",
   "execution_count": 46,
   "id": "7ec0a39a",
   "metadata": {},
   "outputs": [
    {
     "name": "stdout",
     "output_type": "stream",
     "text": [
      "trend of cancellation=0.28*No_nights+ 0.2* No_people-0.17* room_type + 0.43*avg_price -0.85*no_requests\n"
     ]
    }
   ],
   "source": [
    "# cancellation prediction model inclues booking_nights, number of guests,avg_price_per_room,no_of_special_requests\n",
    "#this model accuracy is 71.0%\n",
    "print('trend of cancellation=0.28*No_nights+ 0.2* No_people-0.17* room_type + 0.43*avg_price -0.85*no_requests')\n",
    "\n",
    " #[ 0.28373208,  0.19986807, -0.17379033,  0.43251615, -0.85278452]"
   ]
  },
  {
   "cell_type": "code",
   "execution_count": 47,
   "id": "62eb2ba7",
   "metadata": {},
   "outputs": [
    {
     "data": {
      "text/plain": [
       "[<matplotlib.lines.Line2D at 0x239a1bf76d0>]"
      ]
     },
     "execution_count": 47,
     "metadata": {},
     "output_type": "execute_result"
    },
    {
     "data": {
      "image/png": "[encoded data removed]",
      "text/plain": [
       "<Figure size 432x288 with 1 Axes>"
      ]
     },
     "metadata": {
      "needs_background": "light"
     },
     "output_type": "display_data"
    }
   ],
   "source": [
    "from sklearn.metrics import roc_curve\n",
    "fpr1, tpr1, thresholds = roc_curve(y_test, lor_c.predict(X1_test), pos_label=1)\n",
    "plt.plot(fpr1,tpr1)"
   ]
  },
  {
   "cell_type": "code",
   "execution_count": 48,
   "id": "afad5fb1",
   "metadata": {},
   "outputs": [
    {
     "data": {
      "text/plain": [
       "<AxesSubplot:xlabel='no_of_special_requests', ylabel='nights'>"
      ]
     },
     "execution_count": 48,
     "metadata": {},
     "output_type": "execute_result"
    },
    {
     "data": {
      "image/png": "[encoded data removed]",
      "text/plain": [
       "<Figure size 432x288 with 1 Axes>"
      ]
     },
     "metadata": {
      "needs_background": "light"
     },
     "output_type": "display_data"
    }
   ],
   "source": [
    "#sns.pairplot(hr)\n",
    "sns.scatterplot(data=hr,x=hr['no_of_special_requests'],y=hr['nights'], hue=hr['booking_status'])"
   ]
  },
  {
   "cell_type": "code",
   "execution_count": 49,
   "id": "62f2954f",
   "metadata": {},
   "outputs": [
    {
     "data": {
      "text/plain": [
       "<AxesSubplot:xlabel='no_of_special_requests', ylabel='avg_price_per_room'>"
      ]
     },
     "execution_count": 49,
     "metadata": {},
     "output_type": "execute_result"
    },
    {
     "data": {
      "image/png": "[encoded data removed]",
      "text/plain": [
       "<Figure size 432x288 with 1 Axes>"
      ]
     },
     "metadata": {
      "needs_background": "light"
     },
     "output_type": "display_data"
    }
   ],
   "source": [
    "sns.scatterplot(data=hr,x=hr['no_of_special_requests'],y=hr['avg_price_per_room'], hue=hr['booking_status'])"
   ]
  },
  {
   "cell_type": "markdown",
   "id": "e2b3e28d",
   "metadata": {},
   "source": [
    "Conclusion: more booking nights, more guests in the room, higher room rate and less guest request \n",
    "            cause high possibility to cancellation"
   ]
  },
  {
   "cell_type": "markdown",
   "id": "4cc81c2c",
   "metadata": {},
   "source": [
    "Suggestion: 1. Send guest request email after receiving booking confirmation"
   ]
  },
  {
   "cell_type": "markdown",
   "id": "84bf36e3",
   "metadata": {},
   "source": [
    "          2. Change different room type price based on the prediction model"
   ]
  },
  {
   "cell_type": "markdown",
   "id": "7b5014ed",
   "metadata": {},
   "source": [
    "          3. Limit number of guests per room "
   ]
  },
  {
   "cell_type": "code",
   "execution_count": null,
   "id": "bdb6476f",
   "metadata": {},
   "outputs": [],
   "source": []
  }
 ],
 "metadata": {
  "kernelspec": {
   "display_name": "Python 3 (ipykernel)",
   "language": "python",
   "name": "python3"
  },
  "language_info": {
   "codemirror_mode": {
    "name": "ipython",
    "version": 3
   },
   "file_extension": ".py",
   "mimetype": "text/x-python",
   "name": "python",
   "nbconvert_exporter": "python",
   "pygments_lexer": "ipython3",
   "version": "3.9.12"
  }
 },
 "nbformat": 4,
 "nbformat_minor": 5
}
